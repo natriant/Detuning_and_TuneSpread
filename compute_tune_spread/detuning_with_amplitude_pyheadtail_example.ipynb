{
 "cells": [
  {
   "cell_type": "code",
   "execution_count": 2,
   "metadata": {},
   "outputs": [],
   "source": [
    "import sys\n",
    "sys.path.append('../../utils/')\n",
    "from coordinatesConversions import *\n",
    "from cmpt_TuneSpreads import *\n",
    "import numpy as np\n",
    "from scipy.constants import m_p, c\n",
    "import pickle"
   ]
  },
  {
   "cell_type": "markdown",
   "metadata": {},
   "source": [
    "The action for the y-plane (the same applies for the x-plane)\n",
    "\\begin{equation}\n",
    "J_y = \\frac{1}{2}(y_n^2 +yp_n^2) \\ \\ (1)\n",
    "\\end{equation}\n",
    "\n",
    "where \n",
    "\n",
    "\\begin{equation}\n",
    "y_n = \\frac{y}{\\sqrt{\\beta_y}} \\ \\ (2)\n",
    "\\end{equation}\n",
    "\n",
    "and\n",
    "\n",
    "\n",
    "\\begin{equation}\n",
    "yp_n = \\frac{\\alpha_y y}{\\sqrt{\\beta_y}} + \\sqrt{\\beta_y} yp \\ \\ (3)\n",
    "\\end{equation}\n",
    "\n",
    "The detuning with amplitude is computed by:\n",
    "\n",
    "\\begin{equation}\n",
    "\\Delta Q_x = 2 (\\alpha_{xx} J_x + \\alpha_{xy} J_y) \\ \\ (4)\n",
    "\\end{equation}\n",
    "\n",
    "\\begin{equation}\n",
    "\\Delta Q_y = 2(\\alpha_{yy}  J_y + \\alpha_{yx} J_x ) \\ \\ (5)\n",
    "\\end{equation}\n",
    "\n",
    "where $\\alpha_{xx}, \\alpha_{yy}$ and $\\alpha_{xy}=\\alpha_{xy}$ (1/m) are the detuning coefficients. \n",
    "\n",
    "\n",
    "\n",
    "For the **rms tune spread** and assuming that the coupling coefficient $\\alpha_{xy}$ is zero it applies:\n",
    "\n",
    "\\begin{equation}\n",
    "Var(\\Delta Q_y) = \\langle \\Delta Q_y ^2 \\rangle - \\langle \\Delta Q_y \\rangle^2 =  \\langle 2^2 \\alpha_{yy}^2 J_y ^2 \\rangle - \\langle  2^2 \\alpha_{yy} J_y \\rangle^2 = 2^2 \\alpha_{yy}^2 ( \\langle \\Delta J_y ^2 \\rangle - \\langle \\Delta J_y \\rangle ^2 ) =  2^2 \\alpha_{yy}^2 Var(J_y) \\ \\ (6)\n",
    "\\end{equation}\n",
    "\n",
    "where <> corresponds to np.mean().\n",
    "\n",
    "Thus from (6) we write:\n",
    "\n",
    "\\begin{equation}\n",
    "rms(\\Delta Q_y) = \\sqrt{Var(\\Delta Q_y)} = \\sqrt{ 2^2 \\alpha_{yy}^2 Var(J_y)} = 2 \\alpha_{yy} rms(J_y) \\ \\ (7)\n",
    "\\end{equation}\n",
    "\n",
    "where rms corresponds to np.std()\n"
   ]
  },
  {
   "cell_type": "markdown",
   "metadata": {},
   "source": [
    "### Load the initial distribution used for the sixtracklib simulations and the opitc functions at the location of the CC2\n"
   ]
  },
  {
   "cell_type": "code",
   "execution_count": 3,
   "metadata": {},
   "outputs": [
    {
     "name": "stdout",
     "output_type": "stream",
     "text": [
      "PyHEADTAIL v1.13.5\n",
      "\n",
      "\n"
     ]
    }
   ],
   "source": [
    "bunch = pickle.load(open('./input/bunch', 'rb')) # you need to activate an environment with pyhedtail version at least v1.13.5"
   ]
  },
  {
   "cell_type": "code",
   "execution_count": 4,
   "metadata": {},
   "outputs": [
    {
     "name": "stdout",
     "output_type": "stream",
     "text": [
      "Initial <Jx> = 6.946631733452416e-09 m\n",
      "Initial <Jy> = 6.941328242586265e-09 m\n"
     ]
    }
   ],
   "source": [
    "# Optics at CC2\n",
    "beta_y = 73.81671646\n",
    "beta_x = 30.31164764\n",
    "alpha_y = 0\n",
    "alpha_x = 0\n",
    "  \n",
    "# normalised emittance\n",
    "e_norm_x, e_norm_y = 2e-6, 2e-6 # [m]\n",
    "\n",
    "# Coordinates\n",
    "x, px = bunch.x, bunch.xp\n",
    "y, py =  bunch.y, bunch.yp\n",
    "\n",
    "# Normalised coordinates \n",
    "x_n, px_n = cmpt_normalised_coordinates(x, px, beta_x, alpha_x)\n",
    "y_n, py_n = cmpt_normalised_coordinates(y, py, beta_y, alpha_y)\n",
    "\n",
    "\n",
    "# Compute actions\n",
    "Jx_init = cmpt_actions(x_n, px_n)\n",
    "Jy_init = cmpt_actions(y_n, py_n)\n",
    "\n",
    "print(f'Initial <Jx> = {np.mean(Jx_init)} m')\n",
    "print(f'Initial <Jy> = {np.mean(Jy_init)} m')"
   ]
  },
  {
   "cell_type": "markdown",
   "metadata": {},
   "source": [
    "### Sanity check:  <J> should be equal with the geometric emittance"
   ]
  },
  {
   "cell_type": "code",
   "execution_count": 5,
   "metadata": {},
   "outputs": [
    {
     "name": "stdout",
     "output_type": "stream",
     "text": [
      "e_geom_x= 6.950420985962443e-09 m, e_geom_y= 6.950420985962443e-09 m\n",
      "The e_geom_x is not in exact agreement with <Jx>. Could this be because the x-dispersion is not taken into account? \n"
     ]
    }
   ],
   "source": [
    "# Compute gemoteric emittance \n",
    "p0c = 269.99e9 # [eV]\n",
    "E_rest = 938272081.0 \n",
    "E_0 = np.sqrt(p0c**2+E_rest**2)\n",
    "gamma_0 =  E_0/E_rest # gamma realtivistic of the reference particle  \n",
    "beta_0 = np.sqrt(1-1/gamma_0**2) # beta realtivistic of the reference particle\n",
    "e_geom_y = e_norm_y/(gamma_0*beta_0)\n",
    "e_geom_x = e_norm_x/(gamma_0*beta_0)\n",
    "\n",
    "print(f'e_geom_x= {e_geom_x} m, e_geom_y= {e_geom_y} m')\n",
    "print('The e_geom_x is not in exact agreement with <Jx>. Could this be because the x-dispersion is not taken into account? ')"
   ]
  },
  {
   "cell_type": "markdown",
   "metadata": {},
   "source": [
    "## Compute RMS tune spread accoridng to Eq.7"
   ]
  },
  {
   "cell_type": "markdown",
   "metadata": {},
   "source": [
    "### Α) sanity check that np.std(J) = np.sqrt(var(j) = np.sqrt(<J^2> - <J>^2>)"
   ]
  },
  {
   "cell_type": "code",
   "execution_count": 6,
   "metadata": {},
   "outputs": [
    {
     "name": "stdout",
     "output_type": "stream",
     "text": [
      "np.std(Jy) = 6.944680899507909e-09\n",
      "np.sqrt(Var((Jy)) = 6.944680899507907e-09\n"
     ]
    }
   ],
   "source": [
    "print(f'np.std(Jy) = {np.std(Jy_init)}')\n",
    "print(f'np.sqrt(Var((Jy)) = {np.sqrt(np.mean(Jy_init**2)- np.mean(Jy_init)**2)}')"
   ]
  },
  {
   "cell_type": "code",
   "execution_count": 7,
   "metadata": {},
   "outputs": [],
   "source": [
    "# Detuning coefficients in 1/m\n",
    "axx = 0.0\n",
    "ayy = 8000 #15000 #np.arange(100, 1600, 200)\n",
    "axy = 0.0 #-402.9517487 #0.0"
   ]
  },
  {
   "cell_type": "code",
   "execution_count": 8,
   "metadata": {},
   "outputs": [],
   "source": [
    "rms_Jx_init = np.std(Jx_init) # rms almost the same with the mean\n",
    "rms_Jy_init = np.std(Jy_init)"
   ]
  },
  {
   "cell_type": "code",
   "execution_count": 9,
   "metadata": {},
   "outputs": [
    {
     "name": "stdout",
     "output_type": "stream",
     "text": [
      "rms(DeltaQy) = 0.00011111489439212654\n"
     ]
    }
   ],
   "source": [
    "Dqy_rms = amplitude_detuning_y(rms_Jx_init, rms_Jy_init, ayy, axy)\n",
    "print(f'rms(DeltaQy) = {Dqy_rms}')"
   ]
  },
  {
   "cell_type": "code",
   "execution_count": null,
   "metadata": {},
   "outputs": [],
   "source": []
  },
  {
   "cell_type": "code",
   "execution_count": 20,
   "metadata": {},
   "outputs": [
    {
     "data": {
      "text/plain": [
       "-3.6627572921455602"
      ]
     },
     "execution_count": 20,
     "metadata": {},
     "output_type": "execute_result"
    }
   ],
   "source": [
    "1/(Dqy_rms*43.45e3)"
   ]
  },
  {
   "cell_type": "code",
   "execution_count": null,
   "metadata": {},
   "outputs": [],
   "source": []
  }
 ],
 "metadata": {
  "kernelspec": {
   "display_name": "Python 3",
   "language": "python",
   "name": "python3"
  },
  "language_info": {
   "codemirror_mode": {
    "name": "ipython",
    "version": 3
   },
   "file_extension": ".py",
   "mimetype": "text/x-python",
   "name": "python",
   "nbconvert_exporter": "python",
   "pygments_lexer": "ipython3",
   "version": "3.7.6"
  }
 },
 "nbformat": 4,
 "nbformat_minor": 4
}
