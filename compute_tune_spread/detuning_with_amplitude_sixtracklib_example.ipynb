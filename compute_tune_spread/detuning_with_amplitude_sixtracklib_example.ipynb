{
 "cells": [
  {
   "cell_type": "code",
   "execution_count": 4,
   "metadata": {},
   "outputs": [],
   "source": [
    "import sys\n",
    "sys.path.append('../../utils/')\n",
    "from coordinatesConversions import *\n",
    "import numpy as np\n",
    "from scipy.constants import m_p, c\n",
    "import pickle"
   ]
  },
  {
   "cell_type": "markdown",
   "metadata": {},
   "source": [
    "The action for the y-plane (the same applies for the x-plane)\n",
    "\\begin{equation}\n",
    "J_y = \\frac{1}{2}(y_n^2 +yp_n^2) \\ \\ (1)\n",
    "\\end{equation}\n",
    "\n",
    "where \n",
    "\n",
    "\\begin{equation}\n",
    "y_n = \\frac{y}{\\sqrt{\\beta_y}} \\ \\ (2)\n",
    "\\end{equation}\n",
    "\n",
    "and\n",
    "\n",
    "\n",
    "\\begin{equation}\n",
    "yp_n = \\frac{\\alpha_y y}{\\sqrt{\\beta_y}} + \\sqrt{\\beta_y} yp \\ \\ (3)\n",
    "\\end{equation}\n",
    "\n",
    "The detuning with amplitude is computed by:\n",
    "\n",
    "\\begin{equation}\n",
    "\\Delta Q_x = \\alpha_{xx} J_x + \\alpha_{xy} J_y  \\ \\ (4)\n",
    "\\end{equation}\n",
    "\n",
    "\\begin{equation}\n",
    "\\Delta Q_y = \\alpha_{yy}  J_y + \\alpha_{yx} J_x  \\ \\ (5)\n",
    "\\end{equation}\n",
    "\n",
    "where $\\alpha_{xx}, \\alpha_{yy}$ and $\\alpha_{xy}=\\alpha_{xy}$ (1/m) are the detuning coefficients. \n",
    "\n",
    "\n",
    "\n",
    "For the **rms tune spread** and assuming that the coupling coefficient $\\alpha_{xy}$ is zero it applies:\n",
    "\n",
    "\\begin{equation}\n",
    "Var(\\Delta Q_y) = \\langle \\Delta Q_y ^2 \\rangle - \\langle \\Delta Q_y \\rangle^2 =  \\langle \\alpha_{yy}^2 J_y ^2 \\rangle - \\langle  \\alpha_{yy} J_y \\rangle^2 = \\alpha_{yy}^2 ( \\langle \\Delta J_y ^2 \\rangle - \\langle \\Delta J_y \\rangle ^2 ) =  \\alpha_{yy}^2 Var(J_y) \\ \\ (6)\n",
    "\\end{equation}\n",
    "\n",
    "where <> corresponds to np.mean().\n",
    "\n",
    "Thus from (6) we write:\n",
    "\n",
    "\\begin{equation}\n",
    "rms(\\Delta Q_y) = \\sqrt{Var(\\Delta Q_y)} = \\sqrt{ \\alpha_{yy}^2 Var(J_y)} = \\alpha_{yy} rms(J_y) \\ \\ (7)\n",
    "\\end{equation}\n",
    "\n",
    "where rms corresponds to np.std()\n"
   ]
  },
  {
   "cell_type": "code",
   "execution_count": 5,
   "metadata": {},
   "outputs": [],
   "source": [
    "def amplitude_detuning_x(Jx, Jy,a_xx, a_xy):\n",
    "        return a_xx*2*Jx+a_xy*2*Jy\n",
    "    \n",
    "def amplitude_detuning_y(Jx, Jy, a_yy, a_xy):\n",
    "    return a_yy*2*Jy+a_xy*2*Jx"
   ]
  },
  {
   "cell_type": "markdown",
   "metadata": {},
   "source": [
    "### Load the initial distribution used for the sixtracklib simulations and the opitc functions at the location of the CC2\n"
   ]
  },
  {
   "cell_type": "code",
   "execution_count": 6,
   "metadata": {},
   "outputs": [],
   "source": [
    "initial_distribution = pickle.load(open('./input/initial_coordinates.pkl', 'rb'))\n",
    "twiss = pickle.load(open('input/twiss_sanity_check.pkl', 'rb'))"
   ]
  },
  {
   "cell_type": "code",
   "execution_count": 7,
   "metadata": {},
   "outputs": [
    {
     "name": "stdout",
     "output_type": "stream",
     "text": [
      "Initial <Jx> = 7.469898989251154e-09 m\n",
      "Initial <Jy> = 6.945867993376703e-09 m\n"
     ]
    }
   ],
   "source": [
    "# Optics at CC2\n",
    "beta_y = twiss['betay_cc2']\n",
    "beta_x = twiss['betax_cc2']\n",
    "alpha_y = twiss['alphay_cc2']\n",
    "alpha_x = twiss['alphax_cc2']\n",
    "  \n",
    "# normalised emittance\n",
    "e_norm_x, e_norm_y = 2e-6, 2e-6 # [m]\n",
    "\n",
    "# Coordinates\n",
    "x, px = initial_distribution['x'], initial_distribution['px']\n",
    "y, py = initial_distribution['y'], initial_distribution['py']\n",
    "\n",
    "# Normalised coordinates \n",
    "x_n, px_n = cmpt_normalised_coordinates(x, px, beta_x, alpha_x)\n",
    "y_n, py_n = cmpt_normalised_coordinates(y, py, beta_y, alpha_y)\n",
    "\n",
    "\n",
    "# Compute actions\n",
    "Jx_init = cmpt_actions(x_n, px_n)\n",
    "Jy_init = cmpt_actions(y_n, py_n)\n",
    "\n",
    "print(f'Initial <Jx> = {np.mean(Jx_init)} m')\n",
    "print(f'Initial <Jy> = {np.mean(Jy_init)} m')"
   ]
  },
  {
   "cell_type": "markdown",
   "metadata": {},
   "source": [
    "### Sanity check:  <J> should be equal with the geometric emittance"
   ]
  },
  {
   "cell_type": "code",
   "execution_count": 8,
   "metadata": {},
   "outputs": [
    {
     "name": "stdout",
     "output_type": "stream",
     "text": [
      "e_geom_x= 6.950420985962443e-09 m, e_geom_y= 6.950420985962443e-09 m\n",
      "The e_geom_x is not in exact agreement with <Jx>. Could this be because the x-dispersion is not taken into account? \n"
     ]
    }
   ],
   "source": [
    "# Compute gemoteric emittance \n",
    "p0c = 269.99e9 # [eV]\n",
    "E_rest = 938272081.0 \n",
    "E_0 = np.sqrt(p0c**2+E_rest**2)\n",
    "gamma_0 =  E_0/E_rest # gamma realtivistic of the reference particle  \n",
    "beta_0 = np.sqrt(1-1/gamma_0**2) # beta realtivistic of the reference particle\n",
    "e_geom_y = e_norm_y/(gamma_0*beta_0)\n",
    "e_geom_x = e_norm_x/(gamma_0*beta_0)\n",
    "\n",
    "print(f'e_geom_x= {e_geom_x} m, e_geom_y= {e_geom_y} m')\n",
    "print('The e_geom_x is not in exact agreement with <Jx>. Could this be because the x-dispersion is not taken into account? ')"
   ]
  },
  {
   "cell_type": "markdown",
   "metadata": {},
   "source": [
    "## Compute RMS tune spread accoridng to Eq.7"
   ]
  },
  {
   "cell_type": "markdown",
   "metadata": {},
   "source": [
    "### Α) sanity check that np.std(J) = np.sqrt(var(j) = np.sqrt(<J^2> - <J>^2>)"
   ]
  },
  {
   "cell_type": "code",
   "execution_count": 14,
   "metadata": {},
   "outputs": [
    {
     "name": "stdout",
     "output_type": "stream",
     "text": [
      "np.std(Jy) = 6.969922129199802e-09\n",
      "np.sqrt(Var((Jy)) = 6.969922129199802e-09\n"
     ]
    }
   ],
   "source": [
    "print(f'np.std(Jy) = {np.std(Jy_init)}')\n",
    "print(f'np.sqrt(Var((Jy)) = {np.sqrt(np.mean(Jy_init**2)- np.mean(Jy_init)**2)}')"
   ]
  },
  {
   "cell_type": "code",
   "execution_count": 55,
   "metadata": {},
   "outputs": [],
   "source": [
    "# Detuning coefficients in 1/m\n",
    "axx = 0.0\n",
    "ayy = -49.16694908 #\n",
    "axy =  -402.9517487 #0.0"
   ]
  },
  {
   "cell_type": "code",
   "execution_count": 56,
   "metadata": {},
   "outputs": [],
   "source": [
    "rms_Jx_init = np.std(Jx_init)\n",
    "rms_Jy_init = np.std(Jy_init)"
   ]
  },
  {
   "cell_type": "code",
   "execution_count": 57,
   "metadata": {},
   "outputs": [
    {
     "name": "stdout",
     "output_type": "stream",
     "text": [
      "rms(DeltaQy) = -6.640528290348846e-06\n"
     ]
    }
   ],
   "source": [
    "Dqy_rms = amplitude_detuning_y(rms_Jx_init, rms_Jy_init, ayy, axy)\n",
    "print(f'rms(DeltaQy) = {Dqy_rms}')"
   ]
  },
  {
   "cell_type": "markdown",
   "metadata": {},
   "source": []
  },
  {
   "cell_type": "code",
   "execution_count": 58,
   "metadata": {},
   "outputs": [
    {
     "data": {
      "text/plain": [
       "-3.465832644259609"
      ]
     },
     "execution_count": 58,
     "metadata": {},
     "output_type": "execute_result"
    }
   ],
   "source": [
    "1/(Dqy_rms*43.45e3)"
   ]
  },
  {
   "cell_type": "markdown",
   "metadata": {},
   "source": [
    "## Some other tests"
   ]
  },
  {
   "cell_type": "markdown",
   "metadata": {},
   "source": [
    "### 1) Consider:\n",
    "\n",
    "\\begin{equation}\n",
    "rms(J_y) =  \\frac{1}{2}(rms(y_n)^2 +rms(yp_n)^2) \n",
    "\\end{equation}"
   ]
  },
  {
   "cell_type": "code",
   "execution_count": 42,
   "metadata": {},
   "outputs": [
    {
     "name": "stdout",
     "output_type": "stream",
     "text": [
      "rms yn = 8.458632657192202e-05\n",
      "rms ypn 8.207485721393128e-05\n",
      "rms Jy _2 = 6.945564414809524e-09\n"
     ]
    }
   ],
   "source": [
    "print(f'rms yn = {np.std(y_n)}')\n",
    "print(f'rms ypn {np.std(py_n)}')\n",
    "print('rms Jy _2 = {}'.format((1/2)*(np.std(y_n)**2+ np.std(py_n)**2)))"
   ]
  },
  {
   "cell_type": "markdown",
   "metadata": {},
   "source": [
    "## Very close to the one calculated before from the distribution "
   ]
  },
  {
   "cell_type": "code",
   "execution_count": null,
   "metadata": {},
   "outputs": [],
   "source": []
  }
 ],
 "metadata": {
  "kernelspec": {
   "display_name": "Python 3",
   "language": "python",
   "name": "python3"
  },
  "language_info": {
   "codemirror_mode": {
    "name": "ipython",
    "version": 3
   },
   "file_extension": ".py",
   "mimetype": "text/x-python",
   "name": "python",
   "nbconvert_exporter": "python",
   "pygments_lexer": "ipython3",
   "version": "3.7.3"
  }
 },
 "nbformat": 4,
 "nbformat_minor": 4
}
